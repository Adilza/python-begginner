{
 "cells": [
  {
   "cell_type": "code",
   "execution_count": null,
   "outputs": [],
   "source": [
    "    # Expressões booleanas\n",
    "    # If"
   ],
   "metadata": {
    "collapsed": false,
    "pycharm": {
     "name": "#%% Aula 01\n"
    }
   }
  },
  {
   "cell_type": "code",
   "execution_count": 5,
   "metadata": {
    "collapsed": true,
    "pycharm": {
     "name": "#%% Aula 02\n"
    }
   },
   "outputs": [
    {
     "name": "stdout",
     "output_type": "stream",
     "text": [
      "<class 'bool'>\n",
      "False\n",
      "True\n",
      "senha errada\n",
      "Você é maior de idade\n"
     ]
    }
   ],
   "source": [
    "booleano = True;\n",
    "print(type(booleano))\n",
    "expressao = True and False;\n",
    "print(expressao)\n",
    "expressao = True and True\n",
    "print(expressao)\n",
    "senha = \"secreto\"\n",
    "if (senha==\"marcelo\"):\n",
    "    print(\"senha correta\")\n",
    "if (senha!=\"marcelo\"):\n",
    "    print(\"senha errada\")\n",
    "\n",
    "usuario=\"marcelo\"\n",
    "if (senha==\"marcelo\")and(usuario==\"marcelo\"):\n",
    "    print(\"seja bem vindo\")\n",
    "\n",
    "idade = 18;\n",
    "if idade>=18:\n",
    "    print(\"Você é maior de idade\")\n",
    "tem_carteira_carro: bool=False;\n",
    "tem_carteira_moto = True;\n",
    "if (tem_carteira_carro==True)and(tem_carteira_moto==True):\n",
    "    print(\"Você pode dirigir carros e motos\")\n",
    "else:\n",
    "    if tem_carteira_moto:\n",
    "        print(\"Você pode pilotar moto\")\n",
    "    else:\n",
    "        if tem_carteira_carro:\n",
    "            print(\"Você pode dirigir carro\")\n",
    "        else:\n",
    "            print(\"Você não pode dirigir nada\")\n",
    "# O mesmo com elif\n",
    "if tem_carteira_carro==True and tem_carteira_moto==True:\n",
    "    print(\"Você pode dirigir carros e motos\")\n",
    "elif tem_carteira_moto:\n",
    "        print(\"Você pode pilotar moto\")\n",
    "elif tem_carteira_carro:\n",
    "     print(\"Você pode dirigir carro\")\n",
    "else:\n",
    "            print(\"Você não pode dirigir nada\")\n",
    "\n",
    "\n",
    "#md Aula 03 - Explicação do jogo de dados"
   ]
  },
  {
   "cell_type": "code",
   "execution_count": 25,
   "outputs": [
    {
     "name": "stdout",
     "output_type": "stream",
     "text": [
      "Sorteados os dados 4 e 1\n",
      "Você errou. Agora você tem no bolso 67\n"
     ]
    }
   ],
   "source": [
    "from random import randrange\n",
    "bolso = 100\n",
    "numero = input(\"Qual número você aposta?\")\n",
    "aposta = input(\"Qual o valor você aposta\")\n",
    "aposta = int(aposta)\n",
    "numero = int(numero)\n",
    "bolso = bolso - aposta\n",
    "dado1 = randrange(1,6)\n",
    "dado2 = randrange(1,6)\n",
    "print(\"Sorteados os dados {} e {}\".format(dado1,dado2))\n",
    "resultado = 0\n",
    "if (dado1==numero)and(dado2==numero):\n",
    "    resultado = aposta * 10\n",
    "    bolso += resultado\n",
    "    print(\"Você ganhou {} e agora está com {}\".format(resultado,bolso))\n",
    "elif (dado1 == numero) or (dado2 == numero):\n",
    "    resultado = aposta * 2\n",
    "    bolso += resultado\n",
    "    print(\"Você ganhou {} e agora está com {}\".format(resultado,bolso))\n",
    "else:\n",
    "    print(\"Você errou. Agora você tem no bolso {}\"\n",
    "          .format(bolso))\n",
    "\n"
   ],
   "metadata": {
    "collapsed": false,
    "pycharm": {
     "name": "#%% Aula 04 - Jogo de dados:\n"
    }
   }
  },
  {
   "cell_type": "code",
   "source": [],
   "metadata": {
    "collapsed": false,
    "pycharm": {
     "name": "#%% md Aula 05 - Explicação do Índice de Massa Corporal\n"
    }
   },
   "execution_count": null,
   "outputs": []
  },
  {
   "cell_type": "code",
   "execution_count": null,
   "outputs": [],
   "source": [
    "print(\"Olá, vamos ajudar você a ficar saudável. Primeiro precisamos saber o seu imc\")\n",
    "peso = input(\"Digite o seu peso\")\n",
    "altura = input(\"Digite a sua altura\")\n",
    "imc = peso/(altura**2)\n",
    "print(\"Seu IMC é\".format(imc))\n",
    "if imc < 17:\n",
    "    print(\"Você está muito abaixo do peso\")\n",
    "elif (imc >= 17) and (imc < 18.50):\n",
    "    print(\"Você está abaixo do peso\")\n",
    "elif (imc >= 18.50) and (imc < 25):\n",
    "    print(\"Parabéns, você está no peso normal.\")\n",
    "elif (imc >= 25)and(imc < 30):\n",
    "    print(\"Você está acima do peso\")\n",
    "elif (imc >= 30) and (imc < 35):\n",
    "    print (\"Você tem obesidade grau I\")\n",
    "elif (imc >= 35) and (imc < 40):\n",
    "    print(\"Você tem obesidade grau II\")\n",
    "else:\n",
    "    print(\"Você tem obesidade mórbida\")\n",
    "\n",
    "\n"
   ],
   "metadata": {
    "collapsed": false,
    "pycharm": {
     "name": "#%% Aula 06 - IMC\n"
    }
   }
  }
 ],
 "metadata": {
  "kernelspec": {
   "display_name": "Python 3",
   "language": "python",
   "name": "python3"
  },
  "language_info": {
   "codemirror_mode": {
    "name": "ipython",
    "version": 2
   },
   "file_extension": ".py",
   "mimetype": "text/x-python",
   "name": "python",
   "nbconvert_exporter": "python",
   "pygments_lexer": "ipython2",
   "version": "2.7.6"
  }
 },
 "nbformat": 4,
 "nbformat_minor": 0
}