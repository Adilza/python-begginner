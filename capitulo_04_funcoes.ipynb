{
 "cells": [
  {
   "cell_type": "code",
   "execution_count": 8,
   "metadata": {
    "collapsed": true
   },
   "outputs": [
    {
     "name": "stdout",
     "output_type": "stream",
     "text": [
      "Total da compra 50\n"
     ]
    }
   ],
   "source": [
    "precos = [15,10.50,30,5]\n",
    "produtos = [\"Hamburguer\",\"Batatas Fritas\",\"Combo\",\"Refrigerante\"]\n",
    "\n",
    "# Funções\n",
    "def ler_dados():\n",
    "    n = input(\"Qual o nome do produto?\")\n",
    "    if n==\"\":\n",
    "        return \"\",0\n",
    "    q = int(input(\"Qual a quantidade?\"))\n",
    "    return n, q\n",
    "\n",
    "def pesquisa_indice():\n",
    "    indice = -1\n",
    "    for i,p in enumerate(produtos):\n",
    "            if nome_produto.upper() in p.upper():\n",
    "                indice = i\n",
    "                break\n",
    "    return indice\n",
    "\n",
    "def calcula_item(qtd,valor):\n",
    "    return qtd*valor\n",
    "# Programa\n",
    "\n",
    "valor_compra = 0\n",
    "nome_produto, quantidade = ler_dados()\n",
    "\n",
    "while nome_produto!=\"\":\n",
    "    try:\n",
    "        indice = pesquisa_indice()\n",
    "        if indice != -1:\n",
    "            valor_compra += calcula_item(precos[indice],quantidade)\n",
    "        else:\n",
    "            print(\"Não achei nenhum produto com o nome {}\".format(nome_produto))\n",
    "    except:\n",
    "        print(\"Nâo encontrei o produto\")\n",
    "    nome_produto, quantidade = ler_dados()\n",
    "print(\"Total da compra {}\".format(valor_compra))"
   ]
  }
 ],
 "metadata": {
  "kernelspec": {
   "display_name": "Python 3",
   "language": "python",
   "name": "python3"
  },
  "language_info": {
   "codemirror_mode": {
    "name": "ipython",
    "version": 2
   },
   "file_extension": ".py",
   "mimetype": "text/x-python",
   "name": "python",
   "nbconvert_exporter": "python",
   "pygments_lexer": "ipython2",
   "version": "2.7.6"
  }
 },
 "nbformat": 4,
 "nbformat_minor": 0
}