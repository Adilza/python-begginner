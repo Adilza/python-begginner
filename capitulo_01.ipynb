{
 "cells": [
  {
   "cell_type": "code",
   "execution_count": null,
   "outputs": [],
   "source": [
    "#Apresentação do Colabs\n",
    "print(\"Hello World\")"
   ],
   "metadata": {
    "collapsed": false,
    "pycharm": {
     "name": "#%% Aula 02\n"
    }
   }
  },
  {
   "cell_type": "code",
   "execution_count": 64,
   "outputs": [
    {
     "name": "stdout",
     "output_type": "stream",
     "text": [
      "O seu nome é: Marcelo Sampaio brigolini\n",
      "Seu nome tem: {} caracteres  25\n",
      "Marce\n",
      "['Marcelo', 'Sampaio', 'brigolini']\n",
      "Marcelo Sampaio brigolin\n",
      "*Sem espaços*\n",
      "*Sem espaços   *\n",
      "True\n",
      "False\n",
      "False\n",
      "True\n"
     ]
    }
   ],
   "source": [
    "nome = \"Marcelo\"\n",
    "#input(\"Qual o seu primeiro nome?\")\n",
    "sobrenome = \"sampaio brigolini\"\n",
    "#input(\"E o seu sobrenome\")\n",
    "nome_completo = nome.capitalize()+' '+sobrenome.capitalize()\n",
    "print(\"O seu nome é: \"+nome_completo)\n",
    "print(\"Seu nome tem: {} caracteres \".format(len(nome_completo)))\n",
    "print(nome_completo[0:5])\n",
    "print(nome_completo.split(\" \"))\n",
    "print(nome_completo[:-1])\n",
    "sem_espaco = \"   Sem espaços   \"\n",
    "print(\"*\"+sem_espaco.strip()+\"*\")\n",
    "print(\"*\"+sem_espaco.lstrip()+\"*\")\n",
    "busca = \"marcelo\"\n",
    "print(busca.upper() in nome_completo.upper())\n",
    "print(busca in nome_completo)\n",
    "\n",
    "idade = \"10\";\n",
    "print(idade.isalpha())\n",
    "nome = \"Marcelo\";\n",
    "print(nome.isprintable())"
   ],
   "metadata": {
    "collapsed": false,
    "pycharm": {
     "name": "#%% Aula 03\n"
    }
   }
  },
  {
   "cell_type": "code",
   "execution_count": 222,
   "outputs": [
    {
     "name": "stdout",
     "output_type": "stream",
     "text": [
      "6\n",
      "0.4332315025514858\n",
      "1.6656323326993205\n",
      "0.24548187614075512\n"
     ]
    }
   ],
   "source": [
    "idade = 5\n",
    "print(idade)\n",
    "\n",
    "preco_arroz = 15\n",
    "quilos = 5.0\n",
    "print(preco_arroz*quilos)\n",
    "\n",
    "altura = 1.78\n",
    "peso = 125\n",
    "imc = peso/(altura**2)\n",
    "print(imc)\n",
    "print(type(imc))\n",
    "print(int(imc))\n",
    "\n",
    "from random import random, randrange, uniform, seed\n",
    "print(randrange(1, 10))\n",
    "print(random())\n",
    "print(uniform(1.5,1.9))\n",
    "\n",
    "\n",
    "\n",
    "\n",
    "\n"
   ],
   "metadata": {
    "collapsed": false,
    "pycharm": {
     "name": "#%% Aula 04 - números\n"
    }
   }
  }
 ],
 "metadata": {
  "kernelspec": {
   "display_name": "Python 3",
   "language": "python",
   "name": "python3"
  },
  "language_info": {
   "codemirror_mode": {
    "name": "ipython",
    "version": 2
   },
   "file_extension": ".py",
   "mimetype": "text/x-python",
   "name": "python",
   "nbconvert_exporter": "python",
   "pygments_lexer": "ipython2",
   "version": "2.7.6"
  },
  "pycharm": {
   "stem_cell": {
    "cell_type": "raw",
    "source": [
     "# md Aula 01\n",
     "\n",
     "# Teórica\n",
     "    # Apresentação do curso e pessoal\n",
     "    # Python\n",
     "    # variáveis strings e números\n",
     "    # Google Colabs\n"
    ],
    "metadata": {
     "collapsed": false
    }
   }
  }
 },
 "nbformat": 4,
 "nbformat_minor": 0
}