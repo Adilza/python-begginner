{
 "cells": [
  {
   "cell_type": "code",
   "execution_count": 44,
   "outputs": [
    {
     "name": "stdout",
     "output_type": "stream",
     "text": [
      "{'id': 1, 'nome': 'Marcelo Sampaio', 'endereco': 'Rua das flores, 74', 'membro_desde': datetime.date(2020, 5, 10)}\n",
      "2020-05-10\n",
      "Rua das flores, 74\n",
      "['Marcelo', 'Maria', 'João']\n",
      "Maria\n",
      "João\n",
      "['João']\n",
      "['Marcelo', 'Maria']\n",
      "['Rodrigo', 'Maria', 'João']\n",
      "True\n",
      "3\n",
      "['Rodrigo', 'Maria', 'João', 'Joana']\n",
      "['Primeirão de Jesus', 'Rodrigo', 'Maria', 'João', 'Joana']\n",
      "Nova Lista ['Primeirão de Jesus', 'Rodrigo', 'Maria', 'João', 'Joana']\n",
      "['Primeirão de Jesus', 'Rodrigo', 'Maria', 'João', 'Joana', 'Primeirão de Jesus', 'Rodrigo', 'Maria', 'João', 'Joana']\n",
      "['Primeirão de Jesus', 'Maria', 'João', 'Joana']\n",
      "Primeirão de Jesus\n",
      "['João', 'Joana']\n"
     ]
    },
    {
     "ename": "NameError",
     "evalue": "name 'lista' is not defined",
     "output_type": "error",
     "traceback": [
      "\u001B[1;31m---------------------------------------------------------------------------\u001B[0m",
      "\u001B[1;31mNameError\u001B[0m                                 Traceback (most recent call last)",
      "\u001B[1;32m<ipython-input-44-fb4e537ba13a>\u001B[0m in \u001B[0;36m<module>\u001B[1;34m\u001B[0m\n\u001B[0;32m     35\u001B[0m \u001B[0mprint\u001B[0m\u001B[1;33m(\u001B[0m\u001B[0mlista\u001B[0m\u001B[1;33m)\u001B[0m\u001B[1;33m\u001B[0m\u001B[1;33m\u001B[0m\u001B[0m\n\u001B[0;32m     36\u001B[0m \u001B[1;32mdel\u001B[0m \u001B[0mlista\u001B[0m\u001B[1;33m\u001B[0m\u001B[1;33m\u001B[0m\u001B[0m\n\u001B[1;32m---> 37\u001B[1;33m \u001B[0mprint\u001B[0m\u001B[1;33m(\u001B[0m\u001B[0mlista\u001B[0m\u001B[1;33m)\u001B[0m\u001B[1;33m\u001B[0m\u001B[1;33m\u001B[0m\u001B[0m\n\u001B[0m\u001B[0;32m     38\u001B[0m \u001B[0mlista\u001B[0m\u001B[1;33m.\u001B[0m\u001B[0mclear\u001B[0m\u001B[1;33m(\u001B[0m\u001B[1;33m)\u001B[0m\u001B[1;33m\u001B[0m\u001B[1;33m\u001B[0m\u001B[0m\n\u001B[0;32m     39\u001B[0m \u001B[0mprint\u001B[0m\u001B[1;33m(\u001B[0m\u001B[0mlista\u001B[0m\u001B[1;33m)\u001B[0m\u001B[1;33m\u001B[0m\u001B[1;33m\u001B[0m\u001B[0m\n",
      "\u001B[1;31mNameError\u001B[0m: name 'lista' is not defined"
     ]
    }
   ],
   "source": [
    "from datetime import date\n",
    "pessoa = {\n",
    "  \"id\":1,\n",
    "  \"nome\":\"Marcelo Sampaio\",\n",
    "  \"endereco\":\"Rua das flores, 74\",\n",
    "  \"membro_desde\":date(2020,5,10)\n",
    "}\n",
    "\n",
    "print(pessoa)\n",
    "print(pessoa[\"membro_desde\"])\n",
    "print(pessoa.get(\"endereco\"))\n",
    "\n",
    "lista = [\"Marcelo\",\"Maria\",\"João\"]\n",
    "print(lista)\n",
    "print(lista[1])\n",
    "print(lista[-1])\n",
    "print(lista[2:3])\n",
    "print(lista[:2])\n",
    "lista[0] = 'Rodrigo'\n",
    "print(lista)\n",
    "print(\"Rodrigo\" in lista)\n",
    "print(len(lista))\n",
    "lista.append(\"Joana\")\n",
    "print(lista)\n",
    "lista.insert(0,\"Primeirão de Jesus\")\n",
    "print(lista)\n",
    "nova_lista = lista.copy()\n",
    "print(\"Nova Lista {}\".format(nova_lista))\n",
    "print(lista+nova_lista)\n",
    "lista.remove(\"Rodrigo\")\n",
    "print(lista)\n",
    "nome = lista.pop(0)\n",
    "print(nome)\n",
    "del lista[0]\n",
    "print(lista)\n",
    "del lista\n",
    "print(lista)\n",
    "lista.clear()\n",
    "print(lista)\n",
    "# Tuplas, igual lista\n",
    "# Mostrar imutabilidade\n",
    "x = (\"Marcelo\", \"Evani\", \"Rosário\")\n",
    "y = list(x)\n",
    "print(y)"
   ],
   "metadata": {
    "collapsed": false,
    "pycharm": {
     "name": "#%% Aula 02 - Dicionários\n"
    }
   }
  },
  {
   "cell_type": "code",
   "source": [
    "    # Laços for\n",
    "    # Laços while\n",
    "    # Range"
   ],
   "metadata": {
    "collapsed": false,
    "pycharm": {
     "name": "#%% md Aula 03 - Teoria\n"
    }
   },
   "execution_count": null,
   "outputs": []
  },
  {
   "cell_type": "code",
   "execution_count": 42,
   "outputs": [
    {
     "name": "stdout",
     "output_type": "stream",
     "text": [
      "Senha Errada\n",
      "Parabéns, você acertou a senha\n",
      "Senha Errada você tem 2 tentativas\n",
      "Parabéns, você acertou a senha\n",
      "[<built-in method now of type object at 0x00007FFAC71CF720>, 'Maria', 'João']\n",
      "2020-08-15 19:12:46.865212\n",
      "2020-08-15 19:22:46.865212\n",
      "2020-08-15 19:32:46.865212\n",
      "1\n",
      "3\n",
      "5\n",
      "7\n",
      "9\n"
     ]
    }
   ],
   "source": [
    "senha = \"errada\"\n",
    "while senha!=\"secreto\":\n",
    "    print(\"Senha Errada\")\n",
    "    senha = \"secreto\"\n",
    "print(\"Parabéns, você acertou a senha\")\n",
    "\n",
    "# Com máximo de tentativas\n",
    "senha = \"errada\"\n",
    "tentativas = 3\n",
    "while (senha!=\"secreto\")and(tentativas>0):\n",
    "    tentativas -= 1\n",
    "    print(\"Senha Errada você tem {} tentativas\".format(tentativas))\n",
    "    senha = \"secreto\"\n",
    "if tentativas > 0:\n",
    "    print(\"Parabéns, você acertou a senha\")\n",
    "else:\n",
    "    print(\"Você não está autorizado a acessar o sistema\")\n",
    "\n",
    "from datetime import datetime,timedelta\n",
    "lista = [datetime.now,\"Maria\",\"João\"]\n",
    "print(lista)\n",
    "\n",
    "lista = [datetime.now(),\n",
    "         (datetime.now() + timedelta(minutes=10)),\n",
    "         (datetime.now() + timedelta(minutes=20))]\n",
    "for hora in lista:\n",
    "    print(hora)\n",
    "\n",
    "for numero in range(1,10,2):\n",
    "    print(numero)\n",
    "\n",
    "#md Aula 05 Compra em restaurante - Explicação\n",
    "\n",
    "\n"
   ],
   "metadata": {
    "collapsed": false,
    "pycharm": {
     "name": "#%% Aula 04 - Laços\n"
    }
   }
  },
  {
   "cell_type": "code",
   "execution_count": 47,
   "outputs": [
    {
     "name": "stdout",
     "output_type": "stream",
     "text": [
      "Total da compra 105.0\n"
     ]
    }
   ],
   "source": [
    "precos = [15,10.50,30,5]\n",
    "produtos = [\"Hamburguer\",\"Batatas Fritas\",\"Combo\",\"Refrigerante\"]\n",
    "\n",
    "valor_compra = 0\n",
    "item_compra = int(input(\"Qual o identificador do item da compra?\"))\n",
    "quantidade = int(input(\"Qual a quantidade?\"))\n",
    "while item_compra!=-1:\n",
    "    valor_compra += precos[item_compra]*quantidade\n",
    "    item_compra = int(input(\"Qual o identificador do item da compra?\"))\n",
    "    if (item_compra==-1):\n",
    "        break\n",
    "    quantidade = int(input(\"Qual a quantidade?\"))\n",
    "print(\"Total da compra {}\".format(valor_compra))\n",
    "\n",
    "\n",
    "\n"
   ],
   "metadata": {
    "collapsed": false,
    "pycharm": {
     "name": "#%% Aula 06 Compra em restaurante\n"
    }
   }
  },
  {
   "cell_type": "code",
   "execution_count": 54,
   "outputs": [
    {
     "name": "stdout",
     "output_type": "stream",
     "text": [
      "Total da compra 150\n"
     ]
    }
   ],
   "source": [
    "precos = [15,10.50,30,5]\n",
    "produtos = [\"Hamburguer\",\"Batatas Fritas\",\"Combo\",\"Refrigerante\"]\n",
    "\n",
    "valor_compra = 0\n",
    "nome_produto = input(\"Qual o nome do produto?\")\n",
    "quantidade = int(input(\"Qual a quantidade?\"))\n",
    "while item_compra!=\"\":\n",
    "    indice = produtos.index(nome_produto)\n",
    "    valor_compra += precos[indice]*quantidade\n",
    "    nome_produto = input(\"Qual o nome do produto?\")\n",
    "    if item_compra==\"\":\n",
    "        break\n",
    "    quantidade = int(input(\"Qual a quantidade?\"))\n",
    "print(\"Total da compra {}\".format(valor_compra))\n",
    "\n"
   ],
   "metadata": {
    "collapsed": false,
    "pycharm": {
     "name": "#%% Aula 07 Compra em restaurante melhorado\n"
    }
   }
  },
  {
   "cell_type": "code",
   "execution_count": 11,
   "outputs": [
    {
     "name": "stdout",
     "output_type": "stream",
     "text": [
      "Total da compra 50\n"
     ]
    }
   ],
   "source": [
    "precos = [15,10.50,30,5]\n",
    "produtos = [\"Hamburguer\",\"Batatas Fritas\",\"Combo\",\"Refrigerante\"]\n",
    "\n",
    "valor_compra = 0\n",
    "nome_produto = input(\"Qual o nome do produto?\")\n",
    "quantidade = int(input(\"Qual a quantidade?\"))\n",
    "while nome_produto!=\"\":\n",
    "    try:\n",
    "        indice = -1\n",
    "        for i,p in enumerate(produtos):\n",
    "            if nome_produto.upper() in p.upper():\n",
    "                indice = i\n",
    "                break\n",
    "        if indice != -1:\n",
    "            valor_compra += precos[indice]*quantidade\n",
    "        else:\n",
    "            print(\"Não achei nenhum produto com o nome {}\".format(nome_produto))\n",
    "    except:\n",
    "        print(\"Nâo encontrei o produto\")\n",
    "    nome_produto = input(\"Qual o nome do produto?\")\n",
    "    if nome_produto==\"\":\n",
    "        break\n",
    "    quantidade = int(input(\"Qual a quantidade?\"))\n",
    "print(\"Total da compra {}\".format(valor_compra))\n",
    "\n",
    "\n"
   ],
   "metadata": {
    "collapsed": false,
    "pycharm": {
     "name": "#%% Aula 08 Desafio - Fazendo ficar bom o nosso programinha\n"
    }
   }
  }
 ],
 "metadata": {
  "kernelspec": {
   "display_name": "Python 3",
   "language": "python",
   "name": "python3"
  },
  "language_info": {
   "codemirror_mode": {
    "name": "ipython",
    "version": 2
   },
   "file_extension": ".py",
   "mimetype": "text/x-python",
   "name": "python",
   "nbconvert_exporter": "python",
   "pygments_lexer": "ipython2",
   "version": "2.7.6"
  },
  "pycharm": {
   "stem_cell": {
    "cell_type": "raw",
    "source": [
     "#md Aula 01 - Teoria Dicionários, listas, tuplas"
    ],
    "metadata": {
     "collapsed": false
    }
   }
  }
 },
 "nbformat": 4,
 "nbformat_minor": 0
}